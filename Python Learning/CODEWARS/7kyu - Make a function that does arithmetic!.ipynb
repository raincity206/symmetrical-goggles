{
 "cells": [
  {
   "cell_type": "markdown",
   "metadata": {},
   "source": [
    "Given two numbers and an arithmetic operator (the name of it, as a string), return the result of the two numbers having that operator used on them.\n",
    "\n",
    "a and b will both be positive integers, and a will always be the first number in the operation, and b always the second.\n",
    "\n",
    "The four operators are \"add\", \"subtract\", \"divide\", \"multiply\".\n",
    "\n",
    "A few examples:\n",
    "\n",
    "arithmetic(5, 2, \"add\")      => returns 7\n",
    "arithmetic(5, 2, \"subtract\") => returns 3\n",
    "arithmetic(5, 2, \"multiply\") => returns 10\n",
    "arithmetic(5, 2, \"divide\")   => returns 2.5\n",
    "\n",
    "Try to do it without using if statements!"
   ]
  },
  {
   "cell_type": "code",
   "execution_count": 25,
   "metadata": {
    "collapsed": true
   },
   "outputs": [],
   "source": [
    "import operator\n",
    "\n",
    "def arithmetic(a, b, oper):\n",
    "    ops = {\"add\" : operator.add,\n",
    "           \"subtract\" : operator.sub,\n",
    "           \"multiply\" : operator.mul,\n",
    "           \"divide\" : operator.truediv}\n",
    "    return(ops[oper](a,b))\n",
    "    #your code here"
   ]
  },
  {
   "cell_type": "code",
   "execution_count": 26,
   "metadata": {},
   "outputs": [
    {
     "name": "stdout",
     "output_type": "stream",
     "text": [
      "5 5 5.0 5\n"
     ]
    }
   ],
   "source": [
    "a = arithmetic(5,1,\"multiply\")\n",
    "b = arithmetic(2,3,\"add\")\n",
    "c = arithmetic(10,2,\"divide\")\n",
    "d = arithmetic(10,5,\"subtract\")\n",
    "print(a,b,c,d)"
   ]
  },
  {
   "cell_type": "markdown",
   "metadata": {},
   "source": [
    "---"
   ]
  },
  {
   "cell_type": "markdown",
   "metadata": {},
   "source": [
    "This is the best practice solution:"
   ]
  },
  {
   "cell_type": "code",
   "execution_count": 27,
   "metadata": {
    "collapsed": true
   },
   "outputs": [],
   "source": [
    "def arithmetic(a, b, operator):\n",
    "    return {\n",
    "        'add': a + b,\n",
    "        'subtract': a - b,\n",
    "        'multiply': a * b,\n",
    "        'divide': a / b,\n",
    "    }[operator]"
   ]
  },
  {
   "cell_type": "code",
   "execution_count": 28,
   "metadata": {},
   "outputs": [
    {
     "name": "stdout",
     "output_type": "stream",
     "text": [
      "5 5 5.0 5\n"
     ]
    }
   ],
   "source": [
    "a = arithmetic(5,1,\"multiply\")\n",
    "b = arithmetic(2,3,\"add\")\n",
    "c = arithmetic(10,2,\"divide\")\n",
    "d = arithmetic(10,5,\"subtract\")\n",
    "print(a,b,c,d)"
   ]
  },
  {
   "cell_type": "code",
   "execution_count": null,
   "metadata": {
    "collapsed": true
   },
   "outputs": [],
   "source": []
  }
 ],
 "metadata": {
  "kernelspec": {
   "display_name": "Python 3",
   "language": "python",
   "name": "python3"
  },
  "language_info": {
   "codemirror_mode": {
    "name": "ipython",
    "version": 3
   },
   "file_extension": ".py",
   "mimetype": "text/x-python",
   "name": "python",
   "nbconvert_exporter": "python",
   "pygments_lexer": "ipython3",
   "version": "3.6.1"
  }
 },
 "nbformat": 4,
 "nbformat_minor": 2
}

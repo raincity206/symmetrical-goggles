{
 "cells": [
  {
   "cell_type": "markdown",
   "metadata": {},
   "source": [
    "## Arange\n",
    "### Arange includes the start parameters and excludes the stop value you can also use the step parameter"
   ]
  },
  {
   "cell_type": "code",
   "execution_count": 1,
   "metadata": {},
   "outputs": [
    {
     "name": "stdout",
     "output_type": "stream",
     "text": [
      "(12, -4.99, (5+7j))\n",
      "(12, -4.99, (5+7j), 12, -4.99, (5+7j), 12, -4.99, (5+7j), 12, -4.99, (5+7j), 12, -4.99, (5+7j))\n",
      "[ 60.00 +0.j -24.95 +0.j  25.00+35.j]\n"
     ]
    }
   ],
   "source": [
    "import numpy as np\n",
    "\n",
    "arange_vector1 = np.arange(25)\n",
    "arange_vector2 = np.arange(10,25)\n",
    "arange_vector1.size\n",
    "\n",
    "\n",
    "\n",
    "some_tuple = (12, -4.99, 5.00+7j)\n",
    "\n",
    "print(some_tuple)\n",
    "print(some_tuple*5)\n",
    "print(np.array(some_tuple)*5)\n",
    "\n",
    "\n",
    "### linspace(), zeros(), ones() and numpy data types\n",
    "# linspace() creates an array whose elements are evenly spaced"
   ]
  },
  {
   "cell_type": "code",
   "execution_count": null,
   "metadata": {
    "collapsed": true
   },
   "outputs": [],
   "source": []
  }
 ],
 "metadata": {
  "kernelspec": {
   "display_name": "Python 3",
   "language": "python",
   "name": "python3"
  },
  "language_info": {
   "codemirror_mode": {
    "name": "ipython",
    "version": 3
   },
   "file_extension": ".py",
   "mimetype": "text/x-python",
   "name": "python",
   "nbconvert_exporter": "python",
   "pygments_lexer": "ipython3",
   "version": "3.6.1"
  }
 },
 "nbformat": 4,
 "nbformat_minor": 2
}

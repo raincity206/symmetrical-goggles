{
 "cells": [
  {
   "cell_type": "code",
   "execution_count": 2,
   "metadata": {},
   "outputs": [
    {
     "name": "stdout",
     "output_type": "stream",
     "text": [
      "The number 3 got: False\n",
      "The number 4 got: True\n",
      "The number 5 got: False\n",
      "The number 6 got: True\n",
      "The number 7 got: False\n"
     ]
    }
   ],
   "source": [
    "def even_or_odd(number):\n",
    "\tif number%2==0:\n",
    "\t\treturn \"True\"\n",
    "\telse:\n",
    "\t\treturn \"False\"\n",
    "\n",
    "\n",
    "print(\"The number 3 got: \" + even_or_odd(3))\n",
    "print(\"The number 4 got: \" + even_or_odd(4))\n",
    "print(\"The number 5 got: \" + even_or_odd(5))\n",
    "print(\"The number 6 got: \" + even_or_odd(6))\n",
    "print(\"The number 7 got: \" + even_or_odd(7))"
   ]
  },
  {
   "cell_type": "code",
   "execution_count": null,
   "metadata": {
    "collapsed": true
   },
   "outputs": [],
   "source": []
  }
 ],
 "metadata": {
  "kernelspec": {
   "display_name": "Python 3",
   "language": "python",
   "name": "python3"
  },
  "language_info": {
   "codemirror_mode": {
    "name": "ipython",
    "version": 3
   },
   "file_extension": ".py",
   "mimetype": "text/x-python",
   "name": "python",
   "nbconvert_exporter": "python",
   "pygments_lexer": "ipython3",
   "version": "3.6.1"
  }
 },
 "nbformat": 4,
 "nbformat_minor": 2
}
